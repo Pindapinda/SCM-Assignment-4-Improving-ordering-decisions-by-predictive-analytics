{
 "cells": [
  {
   "cell_type": "code",
   "execution_count": 1,
   "metadata": {
    "ExecuteTime": {
     "end_time": "2018-12-09T19:52:33.415098Z",
     "start_time": "2018-12-09T19:52:33.124505Z"
    }
   },
   "outputs": [],
   "source": [
    "import numpy as np\n",
    "import pandas as pd\n",
    "import pickle\n",
    "from joblib import dump, load\n",
    "\n",
    "from BSP import *\n",
    "\n",
    "Datapath = \"../Data/\""
   ]
  },
  {
   "cell_type": "code",
   "execution_count": 2,
   "metadata": {
    "ExecuteTime": {
     "end_time": "2018-12-09T19:52:33.656028Z",
     "start_time": "2018-12-09T19:52:33.416853Z"
    }
   },
   "outputs": [],
   "source": [
    "# df_test = pd.read_pickle(Datapath+\"df_test.p\")\n",
    "df_valid = pd.read_pickle(Datapath+\"df_valid.p\")   # <-- Change the data input path here\n",
    "\n",
    "m = load(Datapath+\"fitted_m_weekday.joblib\")      # <-- Change this path if needed"
   ]
  },
  {
   "cell_type": "markdown",
   "metadata": {},
   "source": [
    "# With weekday\n",
    "## Initialising the model\n",
    "We add weekday to the input variables\n",
    "\n",
    "When testing the model with validation data, simply change \"df_train\" to \"df_valid\" and \"X_train\" to \"X_values\"."
   ]
  },
  {
   "cell_type": "code",
   "execution_count": 3,
   "metadata": {
    "ExecuteTime": {
     "end_time": "2018-12-09T19:52:33.665301Z",
     "start_time": "2018-12-09T19:52:33.657387Z"
    }
   },
   "outputs": [],
   "source": [
    "# vals_test = df_test[['Temp', 'Rainfall']].values\n",
    "# X_test = np.array([list(vals_test[i]) + list(vals_test[i+1]) for i in range(len(vals_test)-1)])\n",
    "\n",
    "# vals = df_test['Demand'].values[1:-1]\n",
    "# ini = df_test['Demand'][0]\n",
    "\n",
    "vals_valid = df_valid[['Temp', 'Rainfall']].values\n",
    "X_valid = np.array([list(vals_valid[i]) + list(vals_valid[i+1]) for i in range(len(vals_valid)-1)])\n",
    "\n",
    "vals = df_valid['Demand'].values[1:]\n",
    "ini = df_valid['Demand'][0]"
   ]
  },
  {
   "cell_type": "code",
   "execution_count": 4,
   "metadata": {
    "ExecuteTime": {
     "end_time": "2018-12-09T19:52:33.671763Z",
     "start_time": "2018-12-09T19:52:33.666854Z"
    }
   },
   "outputs": [],
   "source": [
    "# X_test = np.c_[X_test, df_test['Weekday'].values[:-1]]\n",
    "\n",
    "# vals = df_test['Demand'].values[1:-1]\n",
    "# ini = df_test['Demand'][0]\n",
    "\n",
    "X_valid = np.c_[X_valid, df_valid['Weekday'].values[:-1]]\n",
    "\n",
    "vals = df_valid['Demand'].values[1:]\n",
    "ini = df_valid['Demand'][0]"
   ]
  },
  {
   "cell_type": "code",
   "execution_count": 5,
   "metadata": {
    "ExecuteTime": {
     "end_time": "2018-12-09T19:52:33.676347Z",
     "start_time": "2018-12-09T19:52:33.673302Z"
    }
   },
   "outputs": [],
   "source": [
    "BSP = Non_stationary_BSP(ini, m_in=m)"
   ]
  },
  {
   "cell_type": "markdown",
   "metadata": {},
   "source": [
    "## Progressing the model\n",
    "We run the model here on all the days in the data set (it only requires the demand for the new day). You could also look at the different features of the class, or progress it manually day by day"
   ]
  },
  {
   "cell_type": "code",
   "execution_count": 6,
   "metadata": {
    "ExecuteTime": {
     "end_time": "2018-12-09T19:53:11.779497Z",
     "start_time": "2018-12-09T19:52:33.678375Z"
    }
   },
   "outputs": [],
   "source": [
    "for i, val in enumerate(vals):\n",
    "    BSP.progress_day(val, X_in=X_valid[i])"
   ]
  },
  {
   "cell_type": "code",
   "execution_count": 7,
   "metadata": {
    "ExecuteTime": {
     "end_time": "2018-12-09T19:53:11.803277Z",
     "start_time": "2018-12-09T19:53:11.784203Z"
    }
   },
   "outputs": [
    {
     "name": "stdout",
     "output_type": "stream",
     "text": [
      "Sum Q:  710.0\n",
      "sum waste:  545.0\n",
      "sum short:  1.0\n",
      "The average cost per week is:  1057.6923076923076\n",
      "The average waste % is: 76.76056338028168%\n",
      "The average short % is: 0.14084507042253522%\n",
      "The final forecast error is: 2.99925852712601\n"
     ]
    }
   ],
   "source": [
    "avg_daily_cost, avg_daily_waste_per, avg_daily_short_per = BSP.performance(0)\n",
    "print(\"The average cost per week is: \", avg_daily_cost*7)\n",
    "print(\"The average waste % is: {}%\".format(avg_daily_waste_per*100))\n",
    "print(\"The average short % is: {}%\".format(avg_daily_short_per*100))\n",
    "print(\"The final forecast error is: {}\".format(BSP.sigma))"
   ]
  }
 ],
 "metadata": {
  "kernelspec": {
   "display_name": "Python 3",
   "language": "python",
   "name": "python3"
  },
  "language_info": {
   "codemirror_mode": {
    "name": "ipython",
    "version": 3
   },
   "file_extension": ".py",
   "mimetype": "text/x-python",
   "name": "python",
   "nbconvert_exporter": "python",
   "pygments_lexer": "ipython3",
   "version": "3.6.4"
  },
  "latex_envs": {
   "LaTeX_envs_menu_present": true,
   "autoclose": false,
   "autocomplete": true,
   "bibliofile": "biblio.bib",
   "cite_by": "apalike",
   "current_citInitial": 1,
   "eqLabelWithNumbers": true,
   "eqNumInitial": 1,
   "hotkeys": {
    "equation": "Ctrl-E",
    "itemize": "Ctrl-I"
   },
   "labels_anchors": false,
   "latex_user_defs": false,
   "report_style_numbering": false,
   "user_envs_cfg": false
  },
  "toc": {
   "nav_menu": {},
   "number_sections": false,
   "sideBar": true,
   "skip_h1_title": false,
   "toc_cell": false,
   "toc_position": {},
   "toc_section_display": "block",
   "toc_window_display": false
  },
  "varInspector": {
   "cols": {
    "lenName": 16,
    "lenType": 16,
    "lenVar": 40
   },
   "kernels_config": {
    "python": {
     "delete_cmd_postfix": "",
     "delete_cmd_prefix": "del ",
     "library": "var_list.py",
     "varRefreshCmd": "print(var_dic_list())"
    },
    "r": {
     "delete_cmd_postfix": ") ",
     "delete_cmd_prefix": "rm(",
     "library": "var_list.r",
     "varRefreshCmd": "cat(var_dic_list()) "
    }
   },
   "types_to_exclude": [
    "module",
    "function",
    "builtin_function_or_method",
    "instance",
    "_Feature"
   ],
   "window_display": false
  }
 },
 "nbformat": 4,
 "nbformat_minor": 2
}
