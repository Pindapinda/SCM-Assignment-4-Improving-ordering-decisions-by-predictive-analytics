{
 "cells": [
  {
   "cell_type": "markdown",
   "metadata": {},
   "source": [
    "# Demand forecasting based on weather"
   ]
  },
  {
   "cell_type": "code",
   "execution_count": 7,
   "metadata": {
    "ExecuteTime": {
     "end_time": "2018-12-08T15:09:03.382368Z",
     "start_time": "2018-12-08T15:09:03.377157Z"
    }
   },
   "outputs": [],
   "source": [
    "import pandas as pd\n",
    "import numpy as np\n",
    "from sklearn.ensemble import RandomForestRegressor as RFR\n",
    "from sklearn.linear_model import LinearRegression, LogisticRegression\n",
    "from sklearn.model_selection import GridSearchCV\n",
    "from joblib import dump, load\n",
    "\n",
    "Datapath = \"../Data/\""
   ]
  },
  {
   "cell_type": "markdown",
   "metadata": {},
   "source": [
    "# Extracting\n",
    "I use the pickle files that have already been preprocessed \"Assignment 4 ETL.ipynb\" and the fitted model from \"Assignment 4 Weather prediction.ipynb\" "
   ]
  },
  {
   "cell_type": "code",
   "execution_count": 15,
   "metadata": {
    "ExecuteTime": {
     "end_time": "2018-12-08T15:47:59.837706Z",
     "start_time": "2018-12-08T15:47:59.828457Z"
    }
   },
   "outputs": [],
   "source": [
    "df_train = pd.read_pickle(Datapath+\"df_train.p\")\n",
    "df_test = pd.read_pickle(Datapath+\"df_test.p\")"
   ]
  },
  {
   "cell_type": "markdown",
   "metadata": {
    "ExecuteTime": {
     "end_time": "2018-12-08T10:15:51.836123Z",
     "start_time": "2018-12-08T10:15:51.807380Z"
    }
   },
   "source": [
    "# Preprocessing\n",
    "The goal is to predict today's and tomorrow's demand based on the weather prediction of today and tomorrow. That means our predictive model requires 4 input vectors:\n",
    "\n",
    " 1. Predicted Temp for today\n",
    " 2. Predicted Rainfall for today\n",
    " 3. Predicted Temp for tomorrow\n",
    " 4. Predicted Rainfall for tomorrow\n",
    " \n",
    "And one output value:\n",
    " \n",
    " The predicted demand.\n",
    " \n",
    "I prepare input vectors X and output values y that reflect these requirements."
   ]
  },
  {
   "cell_type": "code",
   "execution_count": 9,
   "metadata": {
    "ExecuteTime": {
     "end_time": "2018-12-08T15:09:04.320029Z",
     "start_time": "2018-12-08T15:09:04.280921Z"
    }
   },
   "outputs": [],
   "source": [
    "vals_train = df_train[['Temp', 'Rainfall']].values\n",
    "X_train = np.array([list(vals_train[i]) + list(vals_train[i+1]) for i in range(len(vals_train)-1)])\n",
    "# We can not predict for the final day as we do not have the weather prediction for the day after.\n",
    "y_train = np.array(df_train['Demand'].values)[:-1]\n",
    "\n",
    "vals_test = df_test[['Temp', 'Rainfall']].values\n",
    "X_test = np.array([list(vals_test[i]) + list(vals_test[i+1]) for i in range(len(vals_test)-1)])\n",
    "# We can not predict for the final day as we do not have the weather prediction for the day after.\n",
    "y_test = np.array(df_test['Demand'].values)[:-1]"
   ]
  },
  {
   "cell_type": "markdown",
   "metadata": {},
   "source": [
    "We do some quick testing on Random forests..."
   ]
  },
  {
   "cell_type": "code",
   "execution_count": 10,
   "metadata": {
    "ExecuteTime": {
     "end_time": "2018-12-08T15:09:05.986434Z",
     "start_time": "2018-12-08T15:09:05.688783Z"
    }
   },
   "outputs": [
    {
     "data": {
      "text/plain": [
       "0.6900477557496679"
      ]
     },
     "execution_count": 10,
     "metadata": {},
     "output_type": "execute_result"
    }
   ],
   "source": [
    "m = RFR(n_estimators=80, min_samples_leaf=3, max_features=0.5, n_jobs=-1, oob_score=True)\n",
    "m.fit(X_train, y_train)\n",
    "m.score(X_test, y_test)"
   ]
  },
  {
   "cell_type": "markdown",
   "metadata": {
    "ExecuteTime": {
     "end_time": "2018-12-08T11:32:16.790641Z",
     "start_time": "2018-12-08T11:32:16.786829Z"
    }
   },
   "source": [
    "Linear regression..."
   ]
  },
  {
   "cell_type": "code",
   "execution_count": 11,
   "metadata": {
    "ExecuteTime": {
     "end_time": "2018-12-08T15:09:10.990789Z",
     "start_time": "2018-12-08T15:09:10.920273Z"
    }
   },
   "outputs": [
    {
     "data": {
      "text/plain": [
       "0.4078725407039579"
      ]
     },
     "execution_count": 11,
     "metadata": {},
     "output_type": "execute_result"
    }
   ],
   "source": [
    "reg = LinearRegression().fit(X_train, y_train)\n",
    "reg.score(X_test, y_test)"
   ]
  },
  {
   "cell_type": "markdown",
   "metadata": {},
   "source": [
    "Logistic regression..."
   ]
  },
  {
   "cell_type": "code",
   "execution_count": 12,
   "metadata": {
    "ExecuteTime": {
     "end_time": "2018-12-08T15:09:11.482967Z",
     "start_time": "2018-12-08T15:09:11.361518Z"
    }
   },
   "outputs": [
    {
     "data": {
      "text/plain": [
       "0.3983516483516483"
      ]
     },
     "execution_count": 12,
     "metadata": {},
     "output_type": "execute_result"
    }
   ],
   "source": [
    "log = LogisticRegression(random_state=0, solver='lbfgs', multi_class='multinomial').fit(X_train, y_train)\n",
    "log.score(X_test, y_test)"
   ]
  },
  {
   "cell_type": "markdown",
   "metadata": {},
   "source": [
    "It seems that a random forest performs best, this is actually quite common so I'll do a gridsearch in order to tune the hyperparemters. We check a variety of parameters and use 5-fold validation on the combined data set from 2014 to 2017"
   ]
  },
  {
   "cell_type": "code",
   "execution_count": 14,
   "metadata": {
    "ExecuteTime": {
     "end_time": "2018-12-08T15:09:17.487519Z",
     "start_time": "2018-12-08T15:09:17.480463Z"
    }
   },
   "outputs": [],
   "source": [
    "X_cv = np.concatenate((X_train, X_test))\n",
    "y_cv = np.concatenate((y_train, y_test))"
   ]
  },
  {
   "cell_type": "markdown",
   "metadata": {},
   "source": [
    "Warning!!! The next cell (gridsearch) takes almost 40 minutes to execute."
   ]
  },
  {
   "cell_type": "code",
   "execution_count": 77,
   "metadata": {
    "ExecuteTime": {
     "end_time": "2018-12-08T12:43:20.046966Z",
     "start_time": "2018-12-08T12:04:30.576148Z"
    }
   },
   "outputs": [
    {
     "data": {
      "text/plain": [
       "GridSearchCV(cv=5, error_score='raise',\n",
       "       estimator=RandomForestRegressor(bootstrap=True, criterion='mse', max_depth=None,\n",
       "           max_features='auto', max_leaf_nodes=None,\n",
       "           min_impurity_decrease=0.0, min_impurity_split=None,\n",
       "           min_samples_leaf=1, min_samples_split=2,\n",
       "           min_weight_fraction_leaf=0.0, n_estimators=10, n_jobs=-1,\n",
       "           oob_score=False, random_state=None, verbose=0, warm_start=False),\n",
       "       fit_params=None, iid=True, n_jobs=1,\n",
       "       param_grid={'n_estimators': [5, 10, 15, 20, 25, 30, 35, 40, 45, 50, 55, 60, 65, 70, 75, 80, 85, 90, 95, 100], 'min_samples_split': [2, 3, 4, 5, 6, 7, 8, 9], 'min_samples_leaf': [2, 3, 4, 5, 6, 7, 8, 9]},\n",
       "       pre_dispatch='2*n_jobs', refit=True, return_train_score='warn',\n",
       "       scoring=None, verbose=0)"
      ]
     },
     "execution_count": 77,
     "metadata": {},
     "output_type": "execute_result"
    }
   ],
   "source": [
    "parameters = {'n_estimators' : list(range(5, 101, 5)), 'min_samples_split' : list(range(2, 10)), \n",
    "              'min_samples_leaf' : list(range(2, 10))}\n",
    "m = RFR(n_jobs=-1)\n",
    "clf = GridSearchCV(m, parameters, cv=5)\n",
    "clf.fit(X_cv, y_cv)\n",
    "m = clf.best_estimator_"
   ]
  },
  {
   "cell_type": "code",
   "execution_count": 88,
   "metadata": {
    "ExecuteTime": {
     "end_time": "2018-12-08T12:48:44.469963Z",
     "start_time": "2018-12-08T12:48:44.460155Z"
    }
   },
   "outputs": [
    {
     "data": {
      "text/plain": [
       "0.6591514824573875"
      ]
     },
     "execution_count": 88,
     "metadata": {},
     "output_type": "execute_result"
    }
   ],
   "source": [
    "clf.best_score_"
   ]
  },
  {
   "cell_type": "markdown",
   "metadata": {},
   "source": [
    "The model so it can be used later without doing the expensive gridsearch"
   ]
  },
  {
   "cell_type": "code",
   "execution_count": 89,
   "metadata": {
    "ExecuteTime": {
     "end_time": "2018-12-08T12:50:50.575498Z",
     "start_time": "2018-12-08T12:50:50.567680Z"
    }
   },
   "outputs": [
    {
     "data": {
      "text/plain": [
       "['../Data/fitted_m.joblib']"
      ]
     },
     "execution_count": 89,
     "metadata": {},
     "output_type": "execute_result"
    }
   ],
   "source": [
    "dump(m, Datapath+\"optimal_m.joblib\")"
   ]
  },
  {
   "cell_type": "code",
   "execution_count": 94,
   "metadata": {
    "ExecuteTime": {
     "end_time": "2018-12-08T12:52:10.118725Z",
     "start_time": "2018-12-08T12:52:10.110290Z"
    }
   },
   "outputs": [],
   "source": [
    "m =  load(Datapath+\"optimal_m.joblib\")"
   ]
  },
  {
   "cell_type": "code",
   "execution_count": 95,
   "metadata": {
    "ExecuteTime": {
     "end_time": "2018-12-08T12:52:13.121560Z",
     "start_time": "2018-12-08T12:52:12.901110Z"
    }
   },
   "outputs": [
    {
     "data": {
      "text/plain": [
       "0.680327471924683"
      ]
     },
     "execution_count": 95,
     "metadata": {},
     "output_type": "execute_result"
    }
   ],
   "source": [
    "m.fit(X_train, y_train)\n",
    "m.score(X_test, y_test)"
   ]
  },
  {
   "cell_type": "markdown",
   "metadata": {},
   "source": [
    "So the model performs with an R2 of about 0.68 which is not great but definitely not bad either.\n",
    "\n",
    "Let's save it for future use."
   ]
  },
  {
   "cell_type": "code",
   "execution_count": 96,
   "metadata": {
    "ExecuteTime": {
     "end_time": "2018-12-08T12:52:47.865092Z",
     "start_time": "2018-12-08T12:52:47.844950Z"
    }
   },
   "outputs": [
    {
     "data": {
      "text/plain": [
       "['../Data/fitted_m.joblib']"
      ]
     },
     "execution_count": 96,
     "metadata": {},
     "output_type": "execute_result"
    }
   ],
   "source": [
    "dump(m, Datapath+\"fitted_m.joblib\")"
   ]
  },
  {
   "cell_type": "code",
   "execution_count": null,
   "metadata": {},
   "outputs": [],
   "source": [
    "m.predi"
   ]
  }
 ],
 "metadata": {
  "kernelspec": {
   "display_name": "Python 3",
   "language": "python",
   "name": "python3"
  },
  "language_info": {
   "codemirror_mode": {
    "name": "ipython",
    "version": 3
   },
   "file_extension": ".py",
   "mimetype": "text/x-python",
   "name": "python",
   "nbconvert_exporter": "python",
   "pygments_lexer": "ipython3",
   "version": "3.6.4"
  },
  "latex_envs": {
   "LaTeX_envs_menu_present": true,
   "autoclose": false,
   "autocomplete": true,
   "bibliofile": "biblio.bib",
   "cite_by": "apalike",
   "current_citInitial": 1,
   "eqLabelWithNumbers": true,
   "eqNumInitial": 1,
   "hotkeys": {
    "equation": "Ctrl-E",
    "itemize": "Ctrl-I"
   },
   "labels_anchors": false,
   "latex_user_defs": false,
   "report_style_numbering": false,
   "user_envs_cfg": false
  },
  "toc": {
   "nav_menu": {},
   "number_sections": false,
   "sideBar": true,
   "skip_h1_title": false,
   "toc_cell": false,
   "toc_position": {},
   "toc_section_display": "block",
   "toc_window_display": false
  },
  "varInspector": {
   "cols": {
    "lenName": 16,
    "lenType": 16,
    "lenVar": 40
   },
   "kernels_config": {
    "python": {
     "delete_cmd_postfix": "",
     "delete_cmd_prefix": "del ",
     "library": "var_list.py",
     "varRefreshCmd": "print(var_dic_list())"
    },
    "r": {
     "delete_cmd_postfix": ") ",
     "delete_cmd_prefix": "rm(",
     "library": "var_list.r",
     "varRefreshCmd": "cat(var_dic_list()) "
    }
   },
   "types_to_exclude": [
    "module",
    "function",
    "builtin_function_or_method",
    "instance",
    "_Feature"
   ],
   "window_display": false
  }
 },
 "nbformat": 4,
 "nbformat_minor": 2
}
