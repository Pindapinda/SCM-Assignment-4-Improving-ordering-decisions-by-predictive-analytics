{
 "cells": [
  {
   "cell_type": "code",
   "execution_count": 119,
   "metadata": {
    "ExecuteTime": {
     "end_time": "2018-12-06T14:56:01.058377Z",
     "start_time": "2018-12-06T14:56:01.050726Z"
    }
   },
   "outputs": [],
   "source": [
    "import numpy as np\n",
    "import pandas as pd\n",
    "import math"
   ]
  },
  {
   "cell_type": "code",
   "execution_count": 156,
   "metadata": {
    "ExecuteTime": {
     "end_time": "2018-12-06T15:01:08.932055Z",
     "start_time": "2018-12-06T15:01:08.917957Z"
    }
   },
   "outputs": [],
   "source": [
    "df_train = pd.read_pickle(\"../Data/df_train.p\")\n",
    "df_test = pd.read_pickle(\"../Data/df_test.p\")"
   ]
  },
  {
   "cell_type": "code",
   "execution_count": 160,
   "metadata": {
    "ExecuteTime": {
     "end_time": "2018-12-06T15:02:16.228436Z",
     "start_time": "2018-12-06T15:02:16.216541Z"
    }
   },
   "outputs": [
    {
     "data": {
      "text/plain": [
       "2.2211538461538463"
      ]
     },
     "execution_count": 160,
     "metadata": {},
     "output_type": "execute_result"
    }
   ],
   "source": [
    "pd.concat([df_train, df_test])['Demand'].mean()"
   ]
  },
  {
   "cell_type": "code",
   "execution_count": 627,
   "metadata": {
    "ExecuteTime": {
     "end_time": "2018-12-06T15:47:37.001957Z",
     "start_time": "2018-12-06T15:47:36.700587Z"
    }
   },
   "outputs": [],
   "source": [
    "class Non_stationary_BSP:\n",
    "    D = []                                  # The real historical demand grouped by weekday, provided by the data, but only accessed after a day is over.\n",
    "#     f = 1                                   # The fifo-lifo level, which should be 1 throughout this assignment.\n",
    "    z = 2                                   # The safety factor, for this assignment it is set to 2.\n",
    "    cw = 100                                # The cost over overstocking (waste) a product.\n",
    "    cs = 500                                # The cost of being a product short.\n",
    "    t = 1                                   # The current day starting at 1.\n",
    "    S = 0                                   # The stock level, is always equal to mu + z*sigma.\n",
    "    I_tot = 0                               # The total current inventory, sum over I.\n",
    "    Q = []                                  # The order quantity for a certain day is equal to S-I_tot.\n",
    "    mu = 0                                  # The predicted/expected demand for today. Can be set by moving average or some other function.\n",
    "    sigma = 0                               # The predicted/expected standard deviation for today. Should be approximately sqrt(mu).\n",
    "    mu_hist = []                            # The list of historical mu's grouped by weekday\n",
    "    I = [0]*5                               # The inventory of the product, taking into account how long the product has been in the inventory\n",
    "                                            # I[i] gives the inventory of product that has been in the inventory for i days.\n",
    "    waste = []                              # The number of products wasted for each day.\n",
    "    short = []                              # The number of products short for each day.\n",
    "    avg_mu = 2.2211538461538463             # The average demand available in the data\n",
    "    \n",
    "    # The initialisation function leaves the BSP in the state it would be at the beginning of the day.\n",
    "    def __init__(self, D_in, z_in=2, cw_in=100, cs_in=500, t_in=1, Q_in=[], mu_hist_in = [], sigma_hist_in = [], I_in=[0]*5, waste_in = [], short_in = [], avg_mu_in = 2.2211538461538463):\n",
    "        self.D = [D_in]\n",
    "#         self.f = f_in\n",
    "        self.z = z_in\n",
    "        self.cw = cw_in\n",
    "        self.cs = cs_in\n",
    "        self.t = t_in\n",
    "        self.S = 0\n",
    "        self.Q = Q_in\n",
    "        self.mu_hist = mu_hist_in\n",
    "        self.sigma_hist = sigma_hist_in\n",
    "        self.I = I_in\n",
    "        self.I_tot = sum(self.I)\n",
    "        self.mu = 0\n",
    "        self.sigma = 0\n",
    "        self.waste = waste_in\n",
    "        self.short = short_in\n",
    "        self.avg_mu = avg_mu_in\n",
    "    \n",
    "    # At the beginning of the day, the order of yesterday is added to the inventory, \n",
    "    # each inventory item is shifted and the last items are thrown out.\n",
    "    def update_inventory(self):\n",
    "        self.waste.append(self.I[0])\n",
    "        for i in range(len(self.I)-1):\n",
    "            self.I[i] = self.I[i+1]\n",
    "        if self.t == 1:\n",
    "            self.I[-1] = 0\n",
    "        else:\n",
    "            self.I[-1] = self.Q[-1]\n",
    "        self.I_tot = sum(self.I)\n",
    "\n",
    "    # Given the demand of days t-14, t-13, t-7 and t-6, calculate the average moving weight prediction\n",
    "    # for the today and tomorrow.\n",
    "    def mv_avg_predict(self):\n",
    "        if self.t==1:\n",
    "            self.mu = self.avg_mu\n",
    "        elif self.t<15:\n",
    "            self.mu = self.D[self.t-2]\n",
    "        else:\n",
    "            d_14, d_13, d_7, d_6 = self.D[self.t-15], self.D[self.t-14], self.D[self.t-8], self.D[self.t-7]\n",
    "            self.mu = (d_14+d_13+d_7+d_6)/2\n",
    "    \n",
    "    # The sigma is calculated according to what I presume to be the correct formula\n",
    "    def calc_sigma(self):\n",
    "        if self.t < 3:\n",
    "            self.sigma = 0\n",
    "        else:\n",
    "            D = np.array([self.D[i] + self.D[i+1] for i in range(len(self.D[:self.t-2]))])\n",
    "            mu_avg = np.mean(self.mu_hist)\n",
    "            diff = D - mu_avg\n",
    "#             print(diff.dot(diff))\n",
    "            self.sigma = np.sqrt(diff.dot(diff)/(self.t-2))\n",
    "    \n",
    "    def process_demand(self):\n",
    "        demand = self.D[-1]\n",
    "        if demand >= self.I_tot:\n",
    "            self.I = [0]*5\n",
    "            self.short.append(demand-self.I_tot)\n",
    "        else:\n",
    "            i = 1\n",
    "            while demand>0:\n",
    "                supply = self.I[-i]\n",
    "                self.I[-1] = max(0, demand)\n",
    "                demand = max(0, demand-supply)\n",
    "                i+=1\n",
    "            self.short.append(0)\n",
    "            \n",
    "    def progress_day(self, daily_demand):\n",
    "        # At the beginning of the day, we append the mu-history with yesterday's mu and sigma.\n",
    "        self.mu_hist.append(self.mu)\n",
    "        self.sigma_hist.append(self.sigma)\n",
    "        # Next we update the inventory with yesterday's order which should have come in today.\n",
    "        self.update_inventory()\n",
    "        # We then predict the new mu and sigma for today.\n",
    "        self.mv_avg_predict()\n",
    "        self.calc_sigma()\n",
    "        # The Stock level for tomorrow is determined, it is equal to mu + z*sigma\n",
    "        self.S = round(self.mu + self.z*self.sigma)\n",
    "        # The order quantity for tomorrow is equal to S minus the current inventory and the total order quantity is updated.\n",
    "        self.Q.append(max(0, self.S-self.I_tot))\n",
    "        # Next we let the customers buy stuff (as possible) and subtract the day's demand from our current inventory.\n",
    "        self.process_demand()\n",
    "        # We increase the day counter to reflect today.\n",
    "        self.t+=1\n",
    "        # Finally we add the demand for the next day.\n",
    "        self.D.append(daily_demand)\n",
    "        \n",
    "    def performance(self, wup=14):\n",
    "        waste, short, Q = self.waste[wup:], self.short[wup:], self.Q[wup:]\n",
    "        avg_cost = np.mean(waste)*self.cw + np.mean(short)*self.cs\n",
    "        w_perc = np.sum(waste)/np.sum(Q)\n",
    "        s_perc = np.sum(short)/np.sum(Q)\n",
    "        return avg_cost, w_perc, s_perc\n",
    "        "
   ]
  },
  {
   "cell_type": "code",
   "execution_count": 628,
   "metadata": {
    "ExecuteTime": {
     "end_time": "2018-12-06T15:47:37.053302Z",
     "start_time": "2018-12-06T15:47:37.050062Z"
    }
   },
   "outputs": [],
   "source": [
    "i = 0\n",
    "BSP = Non_stationary_BSP(df['Demand'][i])"
   ]
  },
  {
   "cell_type": "code",
   "execution_count": 728,
   "metadata": {
    "ExecuteTime": {
     "end_time": "2018-12-06T15:49:26.889013Z",
     "start_time": "2018-12-06T15:49:26.878903Z"
    }
   },
   "outputs": [
    {
     "name": "stdout",
     "output_type": "stream",
     "text": [
      "t+1:  101\n",
      "D[t-2]: 0\n",
      "mu:  2.0\n",
      "sigma:  2.017938704178673\n",
      "I:  [1, 1, 2, 0, 2]\n",
      "S:  6.0\n",
      "Q:  [2, 0, 1.0, 0, 0, 6.0, 0, 4.0, 0, 0, 0, 1.0, 0, 1.0, 0, 0, 0, 5.0, 1.0, 2.0, 0, 0, 0, 0, 4.0, 2.0, 1.0, 1.0, 1.0, 0, 0, 3.0, 1.0, 0, 2.0, 1.0, 0, 0, 2.0, 0, 1.0, 1.0, 0, 0, 0, 0, 1.0, 1.0, 1.0, 2.0, 2.0, 0, 0, 2.0, 0, 2.0, 0, 0, 0, 0, 0, 2.0, 4.0, 1.0, 3.0, 1.0, 0, 1.0, 1.0, 0, 0, 2.0, 3.0, 1.0, 3.0, 2.0, 0, 0, 0, 2.0, 2.0, 2.0, 2.0, 3.0, 0, 0, 2.0, 0, 9.0, 0, 4.0, 1.0, 1.0, 4.0, 0, 2.0, 3.0, 0, 0, 2.0]\n",
      "short:  0.08\n",
      "waste:  0.78\n",
      "performance:  (118.6046511627907, 0.7058823529411765, 0.058823529411764705)\n"
     ]
    }
   ],
   "source": [
    "i += 1\n",
    "BSP.progress_day(df['Demand'][i])\n",
    "print('t+1: ', BSP.t)\n",
    "print('D[t-2]:', BSP.D[BSP.t-3])\n",
    "print('mu: ', BSP.mu)\n",
    "print('sigma: ', BSP.sigma)\n",
    "print('I: ', BSP.I)\n",
    "print('S: ', BSP.S)\n",
    "print('Q: ', BSP.Q)\n",
    "print('short: ', np.mean(BSP.short))\n",
    "print('waste: ', np.mean(BSP.waste))\n",
    "print('performance: ', BSP.performance())"
   ]
  }
 ],
 "metadata": {
  "kernelspec": {
   "display_name": "Python 3",
   "language": "python",
   "name": "python3"
  },
  "language_info": {
   "codemirror_mode": {
    "name": "ipython",
    "version": 3
   },
   "file_extension": ".py",
   "mimetype": "text/x-python",
   "name": "python",
   "nbconvert_exporter": "python",
   "pygments_lexer": "ipython3",
   "version": "3.6.4"
  },
  "latex_envs": {
   "LaTeX_envs_menu_present": true,
   "autoclose": false,
   "autocomplete": true,
   "bibliofile": "biblio.bib",
   "cite_by": "apalike",
   "current_citInitial": 1,
   "eqLabelWithNumbers": true,
   "eqNumInitial": 1,
   "hotkeys": {
    "equation": "Ctrl-E",
    "itemize": "Ctrl-I"
   },
   "labels_anchors": false,
   "latex_user_defs": false,
   "report_style_numbering": false,
   "user_envs_cfg": false
  },
  "toc": {
   "nav_menu": {},
   "number_sections": false,
   "sideBar": true,
   "skip_h1_title": false,
   "toc_cell": false,
   "toc_position": {},
   "toc_section_display": "block",
   "toc_window_display": false
  },
  "varInspector": {
   "cols": {
    "lenName": 16,
    "lenType": 16,
    "lenVar": 40
   },
   "kernels_config": {
    "python": {
     "delete_cmd_postfix": "",
     "delete_cmd_prefix": "del ",
     "library": "var_list.py",
     "varRefreshCmd": "print(var_dic_list())"
    },
    "r": {
     "delete_cmd_postfix": ") ",
     "delete_cmd_prefix": "rm(",
     "library": "var_list.r",
     "varRefreshCmd": "cat(var_dic_list()) "
    }
   },
   "types_to_exclude": [
    "module",
    "function",
    "builtin_function_or_method",
    "instance",
    "_Feature"
   ],
   "window_display": false
  }
 },
 "nbformat": 4,
 "nbformat_minor": 2
}
