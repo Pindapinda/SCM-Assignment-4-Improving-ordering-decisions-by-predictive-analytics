{
 "cells": [
  {
   "cell_type": "code",
   "execution_count": 1,
   "metadata": {
    "ExecuteTime": {
     "end_time": "2018-12-06T16:02:30.944711Z",
     "start_time": "2018-12-06T16:02:30.708791Z"
    }
   },
   "outputs": [],
   "source": [
    "import numpy as np\n",
    "import pandas as pd\n",
    "import pickle\n",
    "\n",
    "from BSP import *\n",
    "\n",
    "Datapath = \"../Data/\""
   ]
  },
  {
   "cell_type": "markdown",
   "metadata": {},
   "source": [
    "# Loading the data\n",
    "When loading in the transformed validation data simply uncomment the second line"
   ]
  },
  {
   "cell_type": "code",
   "execution_count": 7,
   "metadata": {
    "ExecuteTime": {
     "end_time": "2018-12-06T16:06:49.769511Z",
     "start_time": "2018-12-06T16:06:49.763879Z"
    }
   },
   "outputs": [],
   "source": [
    "df_train = pd.read_pickle(Datapath+\"df_train.p\")\n",
    "# df_valid = pd.read_pickle(datapath_to_transformed_valid_data)"
   ]
  },
  {
   "cell_type": "markdown",
   "metadata": {},
   "source": [
    "# Initialising the model\n",
    "When testing the model with validation data, simply change \"df_train\" to \"df_valid\""
   ]
  },
  {
   "cell_type": "code",
   "execution_count": 3,
   "metadata": {
    "ExecuteTime": {
     "end_time": "2018-12-06T16:02:30.957657Z",
     "start_time": "2018-12-06T16:02:30.954812Z"
    }
   },
   "outputs": [],
   "source": [
    "vals = df_train['Demand'].values[1:]\n",
    "ini = df_train['Demand'][0]\n",
    "\n",
    "# vals = df_valid['Demand'].values[1:]\n",
    "# ini = df_valid['Demand'][0]"
   ]
  },
  {
   "cell_type": "code",
   "execution_count": 4,
   "metadata": {
    "ExecuteTime": {
     "end_time": "2018-12-06T16:02:30.962497Z",
     "start_time": "2018-12-06T16:02:30.959433Z"
    }
   },
   "outputs": [],
   "source": [
    "BSP = Non_stationary_BSP(ini)"
   ]
  },
  {
   "cell_type": "markdown",
   "metadata": {},
   "source": [
    "# Progressing the model\n",
    "We run the model here on all the days in the data set (it only requires the demand for the new day). You could also look at the different features of the class, or progress it slowly"
   ]
  },
  {
   "cell_type": "code",
   "execution_count": 5,
   "metadata": {
    "ExecuteTime": {
     "end_time": "2018-12-06T16:02:31.185481Z",
     "start_time": "2018-12-06T16:02:30.963770Z"
    }
   },
   "outputs": [],
   "source": [
    "for val in vals:\n",
    "    BSP.progress_day(val)"
   ]
  },
  {
   "cell_type": "code",
   "execution_count": 6,
   "metadata": {
    "ExecuteTime": {
     "end_time": "2018-12-06T16:02:31.195700Z",
     "start_time": "2018-12-06T16:02:31.187140Z"
    }
   },
   "outputs": [
    {
     "data": {
      "text/plain": [
       "(277.5092936802974, 0.6881872004510854, 0.03073019453058923)"
      ]
     },
     "execution_count": 6,
     "metadata": {},
     "output_type": "execute_result"
    }
   ],
   "source": [
    "avg_wasteBSP.performance()"
   ]
  }
 ],
 "metadata": {
  "kernelspec": {
   "display_name": "Python 3",
   "language": "python",
   "name": "python3"
  },
  "language_info": {
   "codemirror_mode": {
    "name": "ipython",
    "version": 3
   },
   "file_extension": ".py",
   "mimetype": "text/x-python",
   "name": "python",
   "nbconvert_exporter": "python",
   "pygments_lexer": "ipython3",
   "version": "3.6.4"
  },
  "latex_envs": {
   "LaTeX_envs_menu_present": true,
   "autoclose": false,
   "autocomplete": true,
   "bibliofile": "biblio.bib",
   "cite_by": "apalike",
   "current_citInitial": 1,
   "eqLabelWithNumbers": true,
   "eqNumInitial": 1,
   "hotkeys": {
    "equation": "Ctrl-E",
    "itemize": "Ctrl-I"
   },
   "labels_anchors": false,
   "latex_user_defs": false,
   "report_style_numbering": false,
   "user_envs_cfg": false
  },
  "toc": {
   "nav_menu": {},
   "number_sections": false,
   "sideBar": true,
   "skip_h1_title": false,
   "toc_cell": false,
   "toc_position": {},
   "toc_section_display": "block",
   "toc_window_display": false
  },
  "varInspector": {
   "cols": {
    "lenName": 16,
    "lenType": 16,
    "lenVar": 40
   },
   "kernels_config": {
    "python": {
     "delete_cmd_postfix": "",
     "delete_cmd_prefix": "del ",
     "library": "var_list.py",
     "varRefreshCmd": "print(var_dic_list())"
    },
    "r": {
     "delete_cmd_postfix": ") ",
     "delete_cmd_prefix": "rm(",
     "library": "var_list.r",
     "varRefreshCmd": "cat(var_dic_list()) "
    }
   },
   "types_to_exclude": [
    "module",
    "function",
    "builtin_function_or_method",
    "instance",
    "_Feature"
   ],
   "window_display": false
  }
 },
 "nbformat": 4,
 "nbformat_minor": 2
}
