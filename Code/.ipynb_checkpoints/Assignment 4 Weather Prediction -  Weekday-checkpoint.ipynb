{
 "cells": [
  {
   "cell_type": "markdown",
   "metadata": {},
   "source": [
    "# Weather Prediction"
   ]
  },
  {
   "cell_type": "code",
   "execution_count": 1,
   "metadata": {
    "ExecuteTime": {
     "end_time": "2018-12-09T19:44:31.733514Z",
     "start_time": "2018-12-09T19:44:31.468692Z"
    }
   },
   "outputs": [],
   "source": [
    "import numpy as np\n",
    "import pandas as pd\n",
    "import pickle\n",
    "from joblib import dump, load\n",
    "\n",
    "from BSP import *\n",
    "\n",
    "Datapath = \"../Data/\""
   ]
  },
  {
   "cell_type": "markdown",
   "metadata": {},
   "source": [
    "# Loading the data\n",
    "The preprocessed data and the prefitted model are loaded in.\n",
    "Change the data input path in the second line if needed."
   ]
  },
  {
   "cell_type": "code",
   "execution_count": 2,
   "metadata": {
    "ExecuteTime": {
     "end_time": "2018-12-09T19:44:32.122320Z",
     "start_time": "2018-12-09T19:44:31.863809Z"
    }
   },
   "outputs": [],
   "source": [
    "# df_test = pd.read_pickle(Datapath+\"df_test.p\")\n",
    "df_valid = pd.read_pickle(Datapath+\"df_valid.p\")   # <-- Change the data input path here\n",
    "\n",
    "m1 = load(Datapath+\"fitted_m_no_weekday.joblib\")   # <-- Change this path if needed\n",
    "m2 = load(Datapath+\"fitted_m_weekday.joblib\")      # <-- Change this path if needed"
   ]
  },
  {
   "cell_type": "markdown",
   "metadata": {},
   "source": [
    "# Without weekday\n",
    "## Initialising the model"
   ]
  },
  {
   "cell_type": "code",
   "execution_count": 3,
   "metadata": {
    "ExecuteTime": {
     "end_time": "2018-12-09T19:44:32.250761Z",
     "start_time": "2018-12-09T19:44:32.242630Z"
    }
   },
   "outputs": [],
   "source": [
    "# vals_test = df_test[['Temp', 'Rainfall']].values\n",
    "# X_test = np.array([list(vals_test[i]) + list(vals_test[i+1]) for i in range(len(vals_test)-1)])\n",
    "\n",
    "# vals = df_test['Demand'].values[1:-1]\n",
    "# ini = df_test['Demand'][0]\n",
    "\n",
    "vals_valid = df_valid[['Temp', 'Rainfall']].values\n",
    "X_valid = np.array([list(vals_valid[i]) + list(vals_valid[i+1]) for i in range(len(vals_valid)-1)])\n",
    "\n",
    "vals = df_valid['Demand'].values[1:]\n",
    "ini = df_valid['Demand'][0]"
   ]
  },
  {
   "cell_type": "code",
   "execution_count": 4,
   "metadata": {
    "ExecuteTime": {
     "end_time": "2018-12-09T19:44:32.257355Z",
     "start_time": "2018-12-09T19:44:32.252526Z"
    }
   },
   "outputs": [],
   "source": [
    "BSP = Non_stationary_BSP(ini, m_in=m1)"
   ]
  },
  {
   "cell_type": "markdown",
   "metadata": {},
   "source": [
    "## Progressing the model\n",
    "We run the model here on all the days in the data set (it only requires the demand for the new day). You could also look at the different features of the class, or progress it manually day by day"
   ]
  },
  {
   "cell_type": "code",
   "execution_count": 5,
   "metadata": {
    "ExecuteTime": {
     "end_time": "2018-12-09T19:45:10.742284Z",
     "start_time": "2018-12-09T19:44:32.632048Z"
    }
   },
   "outputs": [],
   "source": [
    "for i, val in enumerate(vals):\n",
    "    BSP.progress_day(val, X_in=X_valid[i])"
   ]
  },
  {
   "cell_type": "code",
   "execution_count": 6,
   "metadata": {
    "ExecuteTime": {
     "end_time": "2018-12-09T19:45:10.765541Z",
     "start_time": "2018-12-09T19:45:10.748394Z"
    }
   },
   "outputs": [
    {
     "name": "stdout",
     "output_type": "stream",
     "text": [
      "Sum Q:  750.0\n",
      "sum waste:  543.0\n",
      "sum short:  7.0\n",
      "The average cost per week is:  1111.5384615384614\n",
      "The average waste % is: 72.39999999999999%\n",
      "The average short % is: 0.9333333333333335%\n",
      "The final forecast error is: 3.208328294291547\n"
     ]
    }
   ],
   "source": [
    "avg_daily_cost, avg_daily_waste_per, avg_daily_short_per = BSP.performance(0)\n",
    "print(\"The average cost per week is: \", avg_daily_cost*7)\n",
    "print(\"The average waste % is: {}%\".format(avg_daily_waste_per*100))\n",
    "print(\"The average short % is: {}%\".format(avg_daily_short_per*100))\n",
    "print(\"The final forecast error is: {}\".format(BSP.sigma))"
   ]
  },
  {
   "cell_type": "markdown",
   "metadata": {},
   "source": [
    "# With weekday\n",
    "## Initialising the model\n",
    "We add weekday to the input variables\n",
    "\n",
    "When testing the model with validation data, simply change \"df_train\" to \"df_valid\" and \"X_train\" to \"X_values\"."
   ]
  },
  {
   "cell_type": "code",
   "execution_count": 7,
   "metadata": {
    "ExecuteTime": {
     "end_time": "2018-12-09T19:45:10.781222Z",
     "start_time": "2018-12-09T19:45:10.771205Z"
    }
   },
   "outputs": [],
   "source": [
    "# X_test = np.c_[X_test, df_test['Weekday'].values[:-1]]\n",
    "\n",
    "# vals = df_test['Demand'].values[1:-1]\n",
    "# ini = df_test['Demand'][0]\n",
    "\n",
    "X_valid = np.c_[X_valid, df_valid['Weekday'].values[:-1]]\n",
    "\n",
    "vals = df_valid['Demand'].values[1:]\n",
    "ini = df_valid['Demand'][0]"
   ]
  },
  {
   "cell_type": "code",
   "execution_count": 11,
   "metadata": {
    "ExecuteTime": {
     "end_time": "2018-12-09T19:46:09.431973Z",
     "start_time": "2018-12-09T19:46:09.424238Z"
    }
   },
   "outputs": [],
   "source": [
    "BSP2 = Non_stationary_BSP(ini, m_in=m2)"
   ]
  },
  {
   "cell_type": "markdown",
   "metadata": {},
   "source": [
    "## Progressing the model\n",
    "We run the model here on all the days in the data set (it only requires the demand for the new day). You could also look at the different features of the class, or progress it manually day by day"
   ]
  },
  {
   "cell_type": "code",
   "execution_count": 9,
   "metadata": {
    "ExecuteTime": {
     "end_time": "2018-12-09T19:45:11.341460Z",
     "start_time": "2018-12-09T19:45:10.790607Z"
    }
   },
   "outputs": [
    {
     "name": "stdout",
     "output_type": "stream",
     "text": [
      "0\n",
      "1\n",
      "2\n",
      "3\n"
     ]
    },
    {
     "ename": "ValueError",
     "evalue": "operands could not be broadcast together with shapes (2,) (366,) ",
     "output_type": "error",
     "traceback": [
      "\u001b[0;31m---------------------------------------------------------------------------\u001b[0m",
      "\u001b[0;31mValueError\u001b[0m                                Traceback (most recent call last)",
      "\u001b[0;32m<ipython-input-9-bf2021cd0ecb>\u001b[0m in \u001b[0;36m<module>\u001b[0;34m()\u001b[0m\n\u001b[1;32m      1\u001b[0m \u001b[0;32mfor\u001b[0m \u001b[0mi\u001b[0m\u001b[0;34m,\u001b[0m \u001b[0mval\u001b[0m \u001b[0;32min\u001b[0m \u001b[0menumerate\u001b[0m\u001b[0;34m(\u001b[0m\u001b[0mvals\u001b[0m\u001b[0;34m)\u001b[0m\u001b[0;34m:\u001b[0m\u001b[0;34m\u001b[0m\u001b[0m\n\u001b[1;32m      2\u001b[0m     \u001b[0mprint\u001b[0m\u001b[0;34m(\u001b[0m\u001b[0mi\u001b[0m\u001b[0;34m)\u001b[0m\u001b[0;34m\u001b[0m\u001b[0m\n\u001b[0;32m----> 3\u001b[0;31m     \u001b[0mBSP2\u001b[0m\u001b[0;34m.\u001b[0m\u001b[0mprogress_day\u001b[0m\u001b[0;34m(\u001b[0m\u001b[0mval\u001b[0m\u001b[0;34m,\u001b[0m \u001b[0mX_in\u001b[0m\u001b[0;34m=\u001b[0m\u001b[0mX_valid\u001b[0m\u001b[0;34m[\u001b[0m\u001b[0mi\u001b[0m\u001b[0;34m]\u001b[0m\u001b[0;34m)\u001b[0m\u001b[0;34m\u001b[0m\u001b[0m\n\u001b[0m",
      "\u001b[0;32m~/JADS/SCM/SCM Assignment 4: Improving ordering decisions by predictive analytics/Code/BSP.py\u001b[0m in \u001b[0;36mprogress_day\u001b[0;34m(self, daily_demand, X_in)\u001b[0m\n\u001b[1;32m    103\u001b[0m         \u001b[0;32melse\u001b[0m\u001b[0;34m:\u001b[0m\u001b[0;34m\u001b[0m\u001b[0m\n\u001b[1;32m    104\u001b[0m             \u001b[0mself\u001b[0m\u001b[0;34m.\u001b[0m\u001b[0mRFR_predict\u001b[0m\u001b[0;34m(\u001b[0m\u001b[0mX_in\u001b[0m\u001b[0;34m)\u001b[0m\u001b[0;34m\u001b[0m\u001b[0m\n\u001b[0;32m--> 105\u001b[0;31m         \u001b[0mself\u001b[0m\u001b[0;34m.\u001b[0m\u001b[0mcalc_sigma\u001b[0m\u001b[0;34m(\u001b[0m\u001b[0;34m)\u001b[0m\u001b[0;34m\u001b[0m\u001b[0m\n\u001b[0m\u001b[1;32m    106\u001b[0m         \u001b[0;31m# The Stock level for tomorrow is determined, it is equal to mu + z*sigma\u001b[0m\u001b[0;34m\u001b[0m\u001b[0;34m\u001b[0m\u001b[0m\n\u001b[1;32m    107\u001b[0m         \u001b[0mself\u001b[0m\u001b[0;34m.\u001b[0m\u001b[0mS\u001b[0m \u001b[0;34m=\u001b[0m \u001b[0mround\u001b[0m\u001b[0;34m(\u001b[0m\u001b[0mself\u001b[0m\u001b[0;34m.\u001b[0m\u001b[0mmu\u001b[0m \u001b[0;34m+\u001b[0m \u001b[0mself\u001b[0m\u001b[0;34m.\u001b[0m\u001b[0mz\u001b[0m\u001b[0;34m*\u001b[0m\u001b[0mself\u001b[0m\u001b[0;34m.\u001b[0m\u001b[0msigma\u001b[0m\u001b[0;34m)\u001b[0m\u001b[0;34m\u001b[0m\u001b[0m\n",
      "\u001b[0;32m~/JADS/SCM/SCM Assignment 4: Improving ordering decisions by predictive analytics/Code/BSP.py\u001b[0m in \u001b[0;36mcalc_sigma\u001b[0;34m(self)\u001b[0m\n\u001b[1;32m     75\u001b[0m             \u001b[0mself\u001b[0m\u001b[0;34m.\u001b[0m\u001b[0msigma\u001b[0m \u001b[0;34m=\u001b[0m \u001b[0;36m0\u001b[0m\u001b[0;34m\u001b[0m\u001b[0m\n\u001b[1;32m     76\u001b[0m         \u001b[0;32melse\u001b[0m\u001b[0;34m:\u001b[0m\u001b[0;34m\u001b[0m\u001b[0m\n\u001b[0;32m---> 77\u001b[0;31m             \u001b[0mD\u001b[0m \u001b[0;34m=\u001b[0m \u001b[0mnumpy\u001b[0m\u001b[0;34m.\u001b[0m\u001b[0marray\u001b[0m\u001b[0;34m(\u001b[0m\u001b[0;34m[\u001b[0m\u001b[0mself\u001b[0m\u001b[0;34m.\u001b[0m\u001b[0mD\u001b[0m\u001b[0;34m[\u001b[0m\u001b[0mi\u001b[0m\u001b[0;34m]\u001b[0m \u001b[0;34m+\u001b[0m \u001b[0mself\u001b[0m\u001b[0;34m.\u001b[0m\u001b[0mD\u001b[0m\u001b[0;34m[\u001b[0m\u001b[0mi\u001b[0m\u001b[0;34m+\u001b[0m\u001b[0;36m1\u001b[0m\u001b[0;34m]\u001b[0m \u001b[0;32mfor\u001b[0m \u001b[0mi\u001b[0m \u001b[0;32min\u001b[0m \u001b[0mrange\u001b[0m\u001b[0;34m(\u001b[0m\u001b[0mlen\u001b[0m\u001b[0;34m(\u001b[0m\u001b[0mself\u001b[0m\u001b[0;34m.\u001b[0m\u001b[0mD\u001b[0m\u001b[0;34m[\u001b[0m\u001b[0;34m:\u001b[0m\u001b[0mself\u001b[0m\u001b[0;34m.\u001b[0m\u001b[0mt\u001b[0m\u001b[0;34m-\u001b[0m\u001b[0;36m2\u001b[0m\u001b[0;34m]\u001b[0m\u001b[0;34m)\u001b[0m\u001b[0;34m)\u001b[0m\u001b[0;34m]\u001b[0m\u001b[0;34m)\u001b[0m \u001b[0;34m-\u001b[0m \u001b[0mnumpy\u001b[0m\u001b[0;34m.\u001b[0m\u001b[0marray\u001b[0m\u001b[0;34m(\u001b[0m\u001b[0mself\u001b[0m\u001b[0;34m.\u001b[0m\u001b[0mmu_hist\u001b[0m\u001b[0;34m[\u001b[0m\u001b[0;36m2\u001b[0m\u001b[0;34m:\u001b[0m\u001b[0;34m]\u001b[0m\u001b[0;34m)\u001b[0m\u001b[0;34m\u001b[0m\u001b[0m\n\u001b[0m\u001b[1;32m     78\u001b[0m             \u001b[0mself\u001b[0m\u001b[0;34m.\u001b[0m\u001b[0msigma\u001b[0m \u001b[0;34m=\u001b[0m \u001b[0mnumpy\u001b[0m\u001b[0;34m.\u001b[0m\u001b[0msqrt\u001b[0m\u001b[0;34m(\u001b[0m\u001b[0mD\u001b[0m\u001b[0;34m.\u001b[0m\u001b[0mdot\u001b[0m\u001b[0;34m(\u001b[0m\u001b[0mD\u001b[0m\u001b[0;34m)\u001b[0m\u001b[0;34m/\u001b[0m\u001b[0;34m(\u001b[0m\u001b[0mself\u001b[0m\u001b[0;34m.\u001b[0m\u001b[0mt\u001b[0m\u001b[0;34m-\u001b[0m\u001b[0;36m2\u001b[0m\u001b[0;34m)\u001b[0m\u001b[0;34m)\u001b[0m\u001b[0;34m\u001b[0m\u001b[0m\n\u001b[1;32m     79\u001b[0m \u001b[0;34m\u001b[0m\u001b[0m\n",
      "\u001b[0;31mValueError\u001b[0m: operands could not be broadcast together with shapes (2,) (366,) "
     ]
    }
   ],
   "source": [
    "for i, val in enumerate(vals):\n",
    "    print(i)\n",
    "    BSP2.progress_day(val, X_in=X_valid[i])"
   ]
  },
  {
   "cell_type": "code",
   "execution_count": null,
   "metadata": {
    "ExecuteTime": {
     "end_time": "2018-12-09T19:45:11.342237Z",
     "start_time": "2018-12-09T19:44:33.394Z"
    }
   },
   "outputs": [],
   "source": [
    "avg_daily_cost, avg_daily_waste_per, avg_daily_short_per = BSP2.performance(0)\n",
    "print(\"The average cost per week is: \", avg_daily_cost*7)\n",
    "print(\"The average waste % is: {}%\".format(avg_daily_waste_per*100))\n",
    "print(\"The average short % is: {}%\".format(avg_daily_short_per*100))\n",
    "print(\"The final forecast error is: {}\".format(BSP2.sigma))"
   ]
  },
  {
   "cell_type": "code",
   "execution_count": null,
   "metadata": {
    "ExecuteTime": {
     "end_time": "2018-12-09T19:45:11.343123Z",
     "start_time": "2018-12-09T19:44:33.400Z"
    }
   },
   "outputs": [],
   "source": [
    "np.mean((m2.predict(X_test) - df_test['Demand'].values[:-1])**2)"
   ]
  }
 ],
 "metadata": {
  "kernelspec": {
   "display_name": "Python 3",
   "language": "python",
   "name": "python3"
  },
  "language_info": {
   "codemirror_mode": {
    "name": "ipython",
    "version": 3
   },
   "file_extension": ".py",
   "mimetype": "text/x-python",
   "name": "python",
   "nbconvert_exporter": "python",
   "pygments_lexer": "ipython3",
   "version": "3.6.4"
  },
  "latex_envs": {
   "LaTeX_envs_menu_present": true,
   "autoclose": false,
   "autocomplete": true,
   "bibliofile": "biblio.bib",
   "cite_by": "apalike",
   "current_citInitial": 1,
   "eqLabelWithNumbers": true,
   "eqNumInitial": 1,
   "hotkeys": {
    "equation": "Ctrl-E",
    "itemize": "Ctrl-I"
   },
   "labels_anchors": false,
   "latex_user_defs": false,
   "report_style_numbering": false,
   "user_envs_cfg": false
  },
  "toc": {
   "nav_menu": {},
   "number_sections": false,
   "sideBar": true,
   "skip_h1_title": false,
   "toc_cell": false,
   "toc_position": {},
   "toc_section_display": "block",
   "toc_window_display": false
  },
  "varInspector": {
   "cols": {
    "lenName": 16,
    "lenType": 16,
    "lenVar": 40
   },
   "kernels_config": {
    "python": {
     "delete_cmd_postfix": "",
     "delete_cmd_prefix": "del ",
     "library": "var_list.py",
     "varRefreshCmd": "print(var_dic_list())"
    },
    "r": {
     "delete_cmd_postfix": ") ",
     "delete_cmd_prefix": "rm(",
     "library": "var_list.r",
     "varRefreshCmd": "cat(var_dic_list()) "
    }
   },
   "types_to_exclude": [
    "module",
    "function",
    "builtin_function_or_method",
    "instance",
    "_Feature"
   ],
   "window_display": false
  }
 },
 "nbformat": 4,
 "nbformat_minor": 2
}
