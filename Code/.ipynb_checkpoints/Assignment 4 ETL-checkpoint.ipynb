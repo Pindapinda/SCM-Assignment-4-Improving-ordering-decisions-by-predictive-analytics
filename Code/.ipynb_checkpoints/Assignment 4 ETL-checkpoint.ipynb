{
 "cells": [
  {
   "cell_type": "code",
   "execution_count": 1,
   "metadata": {
    "ExecuteTime": {
     "end_time": "2018-12-09T18:24:24.634586Z",
     "start_time": "2018-12-09T18:24:24.390853Z"
    }
   },
   "outputs": [],
   "source": [
    "import pandas as pd\n",
    "import numpy as np\n",
    "import datetime as dt\n",
    "import pickle\n",
    "\n",
    "Datapath = \"../Data/\"                  # Change this path as desired"
   ]
  },
  {
   "cell_type": "markdown",
   "metadata": {},
   "source": [
    "# Extracting Data"
   ]
  },
  {
   "cell_type": "code",
   "execution_count": 2,
   "metadata": {
    "ExecuteTime": {
     "end_time": "2018-12-09T18:24:24.696824Z",
     "start_time": "2018-12-09T18:24:24.636082Z"
    }
   },
   "outputs": [],
   "source": [
    "df_train = pd.read_excel(Datapath+\"Data2014-2016.xlsx\")\n",
    "df_test = pd.read_excel(Datapath+\"Data2017.xlsx\")"
   ]
  },
  {
   "cell_type": "markdown",
   "metadata": {},
   "source": [
    "# Transforming Data"
   ]
  },
  {
   "cell_type": "markdown",
   "metadata": {},
   "source": [
    "I check whether any data is missing, particularly whether any dates are missing. First we convert the Date column to datetime and then we check it with a range. Assuming the validation data is complete, only transforming the 'Date' column is necessary there."
   ]
  },
  {
   "cell_type": "code",
   "execution_count": 3,
   "metadata": {
    "ExecuteTime": {
     "end_time": "2018-12-09T18:24:24.721644Z",
     "start_time": "2018-12-09T18:24:24.698277Z"
    }
   },
   "outputs": [
    {
     "name": "stdout",
     "output_type": "stream",
     "text": [
      "df_train dates are complete:  True\n",
      "df_train dates are complete:  True\n"
     ]
    }
   ],
   "source": [
    "df_train['Date'] = pd.to_datetime(df_train['Date'], format='%Y%m%d')\n",
    "base = dt.datetime(2014, 1, 6)\n",
    "date_list = [base + dt.timedelta(days=x) for x in range(0, 1091)]\n",
    "df_train['Test_Date'] = date_list\n",
    "print(\"df_train dates are complete: \", (df_train['Date'] == df_train['Test_Date']).sum()==len(df_train['Date']))\n",
    "df_train.drop(['Test_Date'], axis=1, inplace=True)\n",
    "\n",
    "df_test['Date'] = pd.to_datetime(df_test['Date'], format='%Y%m%d')\n",
    "base = dt.datetime(2017, 1, 1)\n",
    "date_list = [base + dt.timedelta(days=x) for x in range(0, 365)]\n",
    "df_test['Test_Date'] = date_list\n",
    "print(\"df_train dates are complete: \", (df_test['Date'] == df_test['Test_Date']).sum()==len(df_test['Date']))\n",
    "df_test.drop(['Test_Date'], axis=1, inplace=True)"
   ]
  },
  {
   "cell_type": "markdown",
   "metadata": {},
   "source": [
    "Turns out the dates are complete, which is great."
   ]
  },
  {
   "cell_type": "markdown",
   "metadata": {},
   "source": [
    "I rename the columns for simplicity, it means I have to type less in future\n",
    "\n",
    "When preparing the validation set, simply uncomment the third line."
   ]
  },
  {
   "cell_type": "code",
   "execution_count": 4,
   "metadata": {
    "ExecuteTime": {
     "end_time": "2018-12-09T18:24:24.901706Z",
     "start_time": "2018-12-09T18:24:24.897827Z"
    }
   },
   "outputs": [],
   "source": [
    "df_train.rename(columns={'# items demanded' : 'Demand', 'Avg temp in 0.1oC' : 'Temp', 'Rainfall in 24h in 0.1mm' : 'Rainfall'}, inplace=True)\n",
    "df_test.rename(columns={'# items demanded' : 'Demand', 'Avg temp in 0.1oC' : 'Temp', 'Rainfall in 24h in 0.1mm' : 'Rainfall'}, inplace=True)"
   ]
  },
  {
   "cell_type": "markdown",
   "metadata": {},
   "source": [
    "Next we add a weekday column. In this case 0 is Monday, 1 is Tuesday, ..., 6 is Sunday\n",
    "\n",
    "When preparing the validation set, simply uncomment the third line."
   ]
  },
  {
   "cell_type": "code",
   "execution_count": 5,
   "metadata": {
    "ExecuteTime": {
     "end_time": "2018-12-09T18:24:25.009063Z",
     "start_time": "2018-12-09T18:24:25.000691Z"
    }
   },
   "outputs": [],
   "source": [
    "df_train['Weekday'] = df_train['Date'].apply(lambda x: x.weekday())\n",
    "df_test['Weekday'] = df_test['Date'].apply(lambda x: x.weekday())"
   ]
  },
  {
   "cell_type": "markdown",
   "metadata": {},
   "source": [
    "# Loading Data\n",
    "Once again, simply uncomment the final line when validating the code"
   ]
  },
  {
   "cell_type": "code",
   "execution_count": 6,
   "metadata": {
    "ExecuteTime": {
     "end_time": "2018-12-09T18:24:25.129607Z",
     "start_time": "2018-12-09T18:24:25.125651Z"
    }
   },
   "outputs": [],
   "source": [
    "pickle.dump(df_train, open(Datapath+'df_train.p','wb'))\n",
    "pickle.dump(df_test, open(Datapath+'df_test.p','wb'))"
   ]
  },
  {
   "cell_type": "markdown",
   "metadata": {},
   "source": [
    "# Validation preparation\n",
    "Change the variable \"path_to_validation_data\" to the file location for the validation data, enter a path to where the processed data (in pickle format) should go and then run the cell below. "
   ]
  },
  {
   "cell_type": "code",
   "execution_count": 7,
   "metadata": {
    "ExecuteTime": {
     "end_time": "2018-12-09T18:24:25.268053Z",
     "start_time": "2018-12-09T18:24:25.236231Z"
    }
   },
   "outputs": [
    {
     "name": "stdout",
     "output_type": "stream",
     "text": [
      "Renaming columns\n",
      "Adding Weekday column\n"
     ]
    }
   ],
   "source": [
    "# Read the data\n",
    "df_valid = pd.read_excel(Datapath+\"Data2018.xlsx\")  # <-- Change the input datapath here\n",
    "\n",
    "def transform_data(df):\n",
    "    assert (df.columns == ['Date', '# items demanded', 'Avg temp in 0.1oC', 'Rainfall in 24h in 0.1mm']).all(), \"The columns are named differently from the train data!\"\n",
    "    print(\"Renaming columns\")\n",
    "    df.rename(columns={'# items demanded' : 'Demand', 'Avg temp in 0.1oC' : 'Temp', 'Rainfall in 24h in 0.1mm' : 'Rainfall'}, inplace=True)\n",
    "    print(\"Adding Weekday column\")\n",
    "    df['Weekday'] = df['Date'].apply(lambda x: x.weekday())\n",
    "    return df\n",
    "\n",
    "# Change the 'Date' column from string to datetype\n",
    "df_valid['Date'] = pd.to_datetime(df_test['Date'], format='%Y%m%d')\n",
    "# Rename columns and add a 'Weekday' column\n",
    "df_valid = transform_data(df_valid)\n",
    "# Dump the transformed data\n",
    "pickle.dump(df_valid, open(Datapath+'df_valid.p', 'wb'))  # <-- Change the output datapath here"
   ]
  }
 ],
 "metadata": {
  "kernelspec": {
   "display_name": "Python 3",
   "language": "python",
   "name": "python3"
  },
  "language_info": {
   "codemirror_mode": {
    "name": "ipython",
    "version": 3
   },
   "file_extension": ".py",
   "mimetype": "text/x-python",
   "name": "python",
   "nbconvert_exporter": "python",
   "pygments_lexer": "ipython3",
   "version": "3.6.4"
  },
  "latex_envs": {
   "LaTeX_envs_menu_present": true,
   "autoclose": false,
   "autocomplete": true,
   "bibliofile": "biblio.bib",
   "cite_by": "apalike",
   "current_citInitial": 1,
   "eqLabelWithNumbers": true,
   "eqNumInitial": 1,
   "hotkeys": {
    "equation": "Ctrl-E",
    "itemize": "Ctrl-I"
   },
   "labels_anchors": false,
   "latex_user_defs": false,
   "report_style_numbering": false,
   "user_envs_cfg": false
  },
  "toc": {
   "nav_menu": {},
   "number_sections": false,
   "sideBar": true,
   "skip_h1_title": false,
   "toc_cell": false,
   "toc_position": {},
   "toc_section_display": "block",
   "toc_window_display": false
  },
  "varInspector": {
   "cols": {
    "lenName": 16,
    "lenType": 16,
    "lenVar": 40
   },
   "kernels_config": {
    "python": {
     "delete_cmd_postfix": "",
     "delete_cmd_prefix": "del ",
     "library": "var_list.py",
     "varRefreshCmd": "print(var_dic_list())"
    },
    "r": {
     "delete_cmd_postfix": ") ",
     "delete_cmd_prefix": "rm(",
     "library": "var_list.r",
     "varRefreshCmd": "cat(var_dic_list()) "
    }
   },
   "types_to_exclude": [
    "module",
    "function",
    "builtin_function_or_method",
    "instance",
    "_Feature"
   ],
   "window_display": false
  }
 },
 "nbformat": 4,
 "nbformat_minor": 2
}
