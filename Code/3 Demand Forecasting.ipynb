{
 "cells": [
  {
   "cell_type": "markdown",
   "metadata": {},
   "source": [
    "# Demand forecasting based on weather and weekday"
   ]
  },
  {
   "cell_type": "code",
   "execution_count": 1,
   "metadata": {
    "ExecuteTime": {
     "end_time": "2018-12-09T17:52:16.132480Z",
     "start_time": "2018-12-09T17:52:15.618650Z"
    }
   },
   "outputs": [],
   "source": [
    "import pandas as pd\n",
    "import numpy as np\n",
    "from sklearn.ensemble import RandomForestRegressor as RFR\n",
    "from sklearn.linear_model import LinearRegression, LogisticRegression\n",
    "from sklearn.model_selection import GridSearchCV\n",
    "from joblib import dump, load\n",
    "from Preprocessing import *\n",
    "\n",
    "Datapath = \"../Data/\""
   ]
  },
  {
   "cell_type": "markdown",
   "metadata": {},
   "source": [
    "# Extracting\n",
    "I use the pickle files that have already been preprocessed \"Assignment 4 ETL.ipynb\" and the fitted model from \"Assignment 4 Weather prediction.ipynb\" "
   ]
  },
  {
   "cell_type": "code",
   "execution_count": 2,
   "metadata": {
    "ExecuteTime": {
     "end_time": "2018-12-09T17:52:16.144619Z",
     "start_time": "2018-12-09T17:52:16.134617Z"
    }
   },
   "outputs": [],
   "source": [
    "df_train = pd.read_pickle(Datapath+\"df_train.p\")\n",
    "df_test = pd.read_pickle(Datapath+\"df_test.p\")"
   ]
  },
  {
   "cell_type": "markdown",
   "metadata": {
    "ExecuteTime": {
     "end_time": "2018-12-08T10:15:51.836123Z",
     "start_time": "2018-12-08T10:15:51.807380Z"
    }
   },
   "source": [
    "# Preprocessing\n",
    "The goal is to predict today's and tomorrow's demand based on the weather prediction of today and tomorrow. That means our predictive model requires 4 input vectors:\n",
    "\n",
    " 1. Predicted Temp for today\n",
    " 2. Predicted Rainfall for today\n",
    " 3. Predicted Temp for tomorrow\n",
    " 4. Predicted Rainfall for tomorrow\n",
    " \n",
    "And one output value:\n",
    " \n",
    " The predicted demand.\n",
    " \n",
    "I prepare input vectors X and output values y that reflect these requirements."
   ]
  },
  {
   "cell_type": "code",
   "execution_count": 3,
   "metadata": {
    "ExecuteTime": {
     "end_time": "2018-12-09T17:52:16.166992Z",
     "start_time": "2018-12-09T17:52:16.147122Z"
    }
   },
   "outputs": [],
   "source": [
    "vals_train = df_train[['Temp', 'Rainfall']].values\n",
    "X_train = np.array([list(vals_train[i]) + list(vals_train[i+1]) for i in range(len(vals_train)-1)])\n",
    "\n",
    "y_vals_train = df_train['Demand'].values\n",
    "y_train = np.array([y_vals_train[i] + y_vals_train[i+1] for i in range(len(y_vals_train)-1)])\n",
    "\n",
    "vals_test = df_test[['Temp', 'Rainfall']].values\n",
    "X_test = np.array([list(vals_test[i]) + list(vals_test[i+1]) for i in range(len(vals_test)-1)])\n",
    "\n",
    "y_vals_test = df_test['Demand'].values\n",
    "y_test = np.array([y_vals_test[i] + y_vals_test[i+1] for i in range(len(y_vals_test)-1)])"
   ]
  },
  {
   "cell_type": "markdown",
   "metadata": {},
   "source": [
    "# Predicting without weekday\n",
    "## Comparing Models\n",
    "First we look at a couple of models without parameter tuning (because parameter tuning can be quite expensive in time). Initially   only weather data is taken into account"
   ]
  },
  {
   "cell_type": "markdown",
   "metadata": {},
   "source": [
    "We do some quick testing on Random forests..."
   ]
  },
  {
   "cell_type": "code",
   "execution_count": 4,
   "metadata": {
    "ExecuteTime": {
     "end_time": "2018-12-09T17:52:16.541240Z",
     "start_time": "2018-12-09T17:52:16.265476Z"
    }
   },
   "outputs": [
    {
     "data": {
      "text/plain": [
       "0.7634238786108772"
      ]
     },
     "execution_count": 4,
     "metadata": {},
     "output_type": "execute_result"
    }
   ],
   "source": [
    "m = RFR(n_estimators=80, min_samples_leaf=3, max_features=0.5, n_jobs=-1, oob_score=True)\n",
    "m.fit(X_train, y_train)\n",
    "m.score(X_test, y_test)"
   ]
  },
  {
   "cell_type": "markdown",
   "metadata": {
    "ExecuteTime": {
     "end_time": "2018-12-08T11:32:16.790641Z",
     "start_time": "2018-12-08T11:32:16.786829Z"
    }
   },
   "source": [
    "Linear regression..."
   ]
  },
  {
   "cell_type": "code",
   "execution_count": 5,
   "metadata": {
    "ExecuteTime": {
     "end_time": "2018-12-09T17:52:16.570047Z",
     "start_time": "2018-12-09T17:52:16.542754Z"
    }
   },
   "outputs": [
    {
     "data": {
      "text/plain": [
       "0.4768462319918412"
      ]
     },
     "execution_count": 5,
     "metadata": {},
     "output_type": "execute_result"
    }
   ],
   "source": [
    "reg = LinearRegression().fit(X_train, y_train)\n",
    "reg.score(X_test, y_test)"
   ]
  },
  {
   "cell_type": "markdown",
   "metadata": {},
   "source": [
    "Logistic regression..."
   ]
  },
  {
   "cell_type": "code",
   "execution_count": 6,
   "metadata": {
    "ExecuteTime": {
     "end_time": "2018-12-09T17:52:16.691135Z",
     "start_time": "2018-12-09T17:52:16.572415Z"
    }
   },
   "outputs": [
    {
     "data": {
      "text/plain": [
       "0.25824175824175827"
      ]
     },
     "execution_count": 6,
     "metadata": {},
     "output_type": "execute_result"
    }
   ],
   "source": [
    "log = LogisticRegression(random_state=0, solver='lbfgs', multi_class='multinomial').fit(X_train, y_train)\n",
    "log.score(X_test, y_test)"
   ]
  },
  {
   "cell_type": "markdown",
   "metadata": {},
   "source": [
    "## Zooming in on Random Forest Regression"
   ]
  },
  {
   "cell_type": "markdown",
   "metadata": {},
   "source": [
    "It seems that a random forest performs best, this is actually quite common so I'll do a gridsearch in order to tune the hyperparemters. We check a variety of parameters and use 5-fold validation on the combined data set from 2014 to 2017"
   ]
  },
  {
   "cell_type": "code",
   "execution_count": 7,
   "metadata": {
    "ExecuteTime": {
     "end_time": "2018-12-09T17:52:16.880839Z",
     "start_time": "2018-12-09T17:52:16.878051Z"
    }
   },
   "outputs": [],
   "source": [
    "X_cv = np.concatenate((X_train, X_test))\n",
    "y_cv = np.concatenate((y_train, y_test))"
   ]
  },
  {
   "cell_type": "markdown",
   "metadata": {},
   "source": [
    "Warning!!! The next cell (gridsearch) takes almost 40 minutes to execute.\n",
    "It finds the best parameters (from a grid of options) and has an attribute called \"best_estimator_\" that is precisely the model with the optimal parameters."
   ]
  },
  {
   "cell_type": "code",
   "execution_count": 8,
   "metadata": {
    "ExecuteTime": {
     "end_time": "2018-12-09T18:31:14.136629Z",
     "start_time": "2018-12-09T17:52:17.043068Z"
    }
   },
   "outputs": [],
   "source": [
    "parameters = {'n_estimators' : list(range(5, 101, 5)), 'min_samples_split' : list(range(2, 10)), \n",
    "              'min_samples_leaf' : list(range(2, 10))}\n",
    "m = RFR(n_jobs=-1)\n",
    "clf = GridSearchCV(m, parameters, cv=5)\n",
    "clf.fit(X_cv, y_cv)\n",
    "m = clf.best_estimator_"
   ]
  },
  {
   "cell_type": "markdown",
   "metadata": {},
   "source": [
    "Below is given a short description of the model with the optimal parameters."
   ]
  },
  {
   "cell_type": "code",
   "execution_count": 9,
   "metadata": {
    "ExecuteTime": {
     "end_time": "2018-12-09T18:31:14.150677Z",
     "start_time": "2018-12-09T18:31:14.141422Z"
    }
   },
   "outputs": [
    {
     "data": {
      "text/plain": [
       "RandomForestRegressor(bootstrap=True, criterion='mse', max_depth=None,\n",
       "           max_features='auto', max_leaf_nodes=None,\n",
       "           min_impurity_decrease=0.0, min_impurity_split=None,\n",
       "           min_samples_leaf=4, min_samples_split=7,\n",
       "           min_weight_fraction_leaf=0.0, n_estimators=95, n_jobs=-1,\n",
       "           oob_score=False, random_state=None, verbose=0, warm_start=False)"
      ]
     },
     "execution_count": 9,
     "metadata": {},
     "output_type": "execute_result"
    }
   ],
   "source": [
    "m"
   ]
  },
  {
   "cell_type": "code",
   "execution_count": 10,
   "metadata": {
    "ExecuteTime": {
     "end_time": "2018-12-09T18:31:14.163578Z",
     "start_time": "2018-12-09T18:31:14.155313Z"
    }
   },
   "outputs": [
    {
     "data": {
      "text/plain": [
       "0.7298151434768766"
      ]
     },
     "execution_count": 10,
     "metadata": {},
     "output_type": "execute_result"
    }
   ],
   "source": [
    "clf.best_score_"
   ]
  },
  {
   "cell_type": "markdown",
   "metadata": {},
   "source": [
    "The model is dumped so it can be used later without doing the expensive gridsearch"
   ]
  },
  {
   "cell_type": "code",
   "execution_count": 11,
   "metadata": {
    "ExecuteTime": {
     "end_time": "2018-12-09T18:31:14.209346Z",
     "start_time": "2018-12-09T18:31:14.166630Z"
    }
   },
   "outputs": [
    {
     "data": {
      "text/plain": [
       "['../Data/optimal_m_no_weekday.joblib']"
      ]
     },
     "execution_count": 11,
     "metadata": {},
     "output_type": "execute_result"
    }
   ],
   "source": [
    "dump(m, Datapath+\"optimal_m_no_weekday.joblib\")"
   ]
  },
  {
   "cell_type": "markdown",
   "metadata": {},
   "source": [
    "So the model performs with an R2 of about 0.68 which is not great but definitely not bad either.\n",
    "\n",
    "Let's save it for future use."
   ]
  },
  {
   "cell_type": "code",
   "execution_count": 12,
   "metadata": {
    "ExecuteTime": {
     "end_time": "2018-12-09T18:31:14.245782Z",
     "start_time": "2018-12-09T18:31:14.210740Z"
    }
   },
   "outputs": [
    {
     "data": {
      "text/plain": [
       "['../Data/fitted_m_no_weekday.joblib']"
      ]
     },
     "execution_count": 12,
     "metadata": {},
     "output_type": "execute_result"
    }
   ],
   "source": [
    "dump(m, Datapath+\"fitted_m_no_weekday.joblib\")"
   ]
  },
  {
   "cell_type": "markdown",
   "metadata": {},
   "source": [
    "# Predicting with weekday\n",
    "## Comparing Models\n",
    "First we look at a couple of models without parameter tuning (because parameter tuning can be quite expensive in time). This time, we also take weekday data into account."
   ]
  },
  {
   "cell_type": "code",
   "execution_count": 13,
   "metadata": {
    "ExecuteTime": {
     "end_time": "2018-12-09T18:31:14.250495Z",
     "start_time": "2018-12-09T18:31:14.247313Z"
    }
   },
   "outputs": [],
   "source": [
    "X_train = np.c_[X_train, df_train['Weekday'].values[:-1]]\n",
    "X_test = np.c_[X_test, df_test['Weekday'].values[:-1]]"
   ]
  },
  {
   "cell_type": "markdown",
   "metadata": {
    "ExecuteTime": {
     "end_time": "2018-12-08T11:32:16.790641Z",
     "start_time": "2018-12-08T11:32:16.786829Z"
    }
   },
   "source": [
    "Linear regression..."
   ]
  },
  {
   "cell_type": "code",
   "execution_count": 14,
   "metadata": {
    "ExecuteTime": {
     "end_time": "2018-12-09T18:31:14.260137Z",
     "start_time": "2018-12-09T18:31:14.252154Z"
    }
   },
   "outputs": [
    {
     "data": {
      "text/plain": [
       "0.48896434598538235"
      ]
     },
     "execution_count": 14,
     "metadata": {},
     "output_type": "execute_result"
    }
   ],
   "source": [
    "reg = LinearRegression().fit(X_train, y_train)\n",
    "reg.score(X_test, y_test)"
   ]
  },
  {
   "cell_type": "markdown",
   "metadata": {},
   "source": [
    "Logistic regression..."
   ]
  },
  {
   "cell_type": "code",
   "execution_count": 15,
   "metadata": {
    "ExecuteTime": {
     "end_time": "2018-12-09T18:31:14.367891Z",
     "start_time": "2018-12-09T18:31:14.262086Z"
    }
   },
   "outputs": [
    {
     "data": {
      "text/plain": [
       "0.22802197802197802"
      ]
     },
     "execution_count": 15,
     "metadata": {},
     "output_type": "execute_result"
    }
   ],
   "source": [
    "log = LogisticRegression(random_state=0, solver='lbfgs', multi_class='multinomial').fit(X_train, y_train)\n",
    "log.score(X_test, y_test)"
   ]
  },
  {
   "cell_type": "markdown",
   "metadata": {},
   "source": [
    "The Random Forest Regression, allows for the use of categorical data such as weekdays, so we can translate this to categorical data."
   ]
  },
  {
   "cell_type": "code",
   "execution_count": 16,
   "metadata": {
    "ExecuteTime": {
     "end_time": "2018-12-09T18:31:14.637410Z",
     "start_time": "2018-12-09T18:31:14.369463Z"
    }
   },
   "outputs": [
    {
     "data": {
      "text/plain": [
       "0.8114914059487586"
      ]
     },
     "execution_count": 16,
     "metadata": {},
     "output_type": "execute_result"
    }
   ],
   "source": [
    "m = RFR(n_estimators=80, min_samples_leaf=3, max_features=0.5, n_jobs=-1, oob_score=True)\n",
    "m.fit(X_train, y_train)\n",
    "m.score(X_test, y_test)"
   ]
  },
  {
   "cell_type": "markdown",
   "metadata": {},
   "source": [
    "## Zooming in on Random Forest Regression"
   ]
  },
  {
   "cell_type": "markdown",
   "metadata": {},
   "source": [
    "It seems that a random forest performs best, this is actually quite common so I'll do a gridsearch in order to tune the hyperparemters. We check a variety of parameters and use 5-fold validation on the combined data set from 2014 to 2017"
   ]
  },
  {
   "cell_type": "code",
   "execution_count": 17,
   "metadata": {
    "ExecuteTime": {
     "end_time": "2018-12-09T18:31:14.650196Z",
     "start_time": "2018-12-09T18:31:14.641934Z"
    }
   },
   "outputs": [],
   "source": [
    "X_cv = np.concatenate((X_train, X_test))\n",
    "y_cv = np.concatenate((y_train, y_test))"
   ]
  },
  {
   "cell_type": "markdown",
   "metadata": {},
   "source": [
    "Warning!!! The next cell (gridsearch) takes almost 40 minutes to execute.\n",
    "It finds the best parameters (from a grid of options) and has an attribute called \"best_estimator_\" that is precisely the model with the optimal parameters."
   ]
  },
  {
   "cell_type": "code",
   "execution_count": 18,
   "metadata": {
    "ExecuteTime": {
     "end_time": "2018-12-09T19:10:11.384275Z",
     "start_time": "2018-12-09T18:31:14.656750Z"
    }
   },
   "outputs": [],
   "source": [
    "parameters = {'n_estimators' : list(range(5, 101, 5)), 'min_samples_split' : list(range(2, 10)), \n",
    "              'min_samples_leaf' : list(range(2, 10))}\n",
    "m = RFR(n_jobs=-1)\n",
    "clf = GridSearchCV(m, parameters, cv=5)\n",
    "clf.fit(X_cv, y_cv)\n",
    "m = clf.best_estimator_"
   ]
  },
  {
   "cell_type": "markdown",
   "metadata": {},
   "source": [
    "Below is given a short description of the model with the optimal parameters."
   ]
  },
  {
   "cell_type": "code",
   "execution_count": 19,
   "metadata": {
    "ExecuteTime": {
     "end_time": "2018-12-09T19:10:11.399438Z",
     "start_time": "2018-12-09T19:10:11.389477Z"
    }
   },
   "outputs": [
    {
     "data": {
      "text/plain": [
       "RandomForestRegressor(bootstrap=True, criterion='mse', max_depth=None,\n",
       "           max_features='auto', max_leaf_nodes=None,\n",
       "           min_impurity_decrease=0.0, min_impurity_split=None,\n",
       "           min_samples_leaf=3, min_samples_split=5,\n",
       "           min_weight_fraction_leaf=0.0, n_estimators=90, n_jobs=-1,\n",
       "           oob_score=False, random_state=None, verbose=0, warm_start=False)"
      ]
     },
     "execution_count": 19,
     "metadata": {},
     "output_type": "execute_result"
    }
   ],
   "source": [
    "m"
   ]
  },
  {
   "cell_type": "code",
   "execution_count": 20,
   "metadata": {
    "ExecuteTime": {
     "end_time": "2018-12-09T19:10:11.415266Z",
     "start_time": "2018-12-09T19:10:11.405106Z"
    }
   },
   "outputs": [
    {
     "data": {
      "text/plain": [
       "0.7821114012859117"
      ]
     },
     "execution_count": 20,
     "metadata": {},
     "output_type": "execute_result"
    }
   ],
   "source": [
    "clf.best_score_"
   ]
  },
  {
   "cell_type": "markdown",
   "metadata": {},
   "source": [
    "So the model performs with an R2 of about 0.73 which is pretty good.\n",
    "\n",
    "Let's save it for future use."
   ]
  },
  {
   "cell_type": "code",
   "execution_count": 21,
   "metadata": {
    "ExecuteTime": {
     "end_time": "2018-12-09T19:10:11.478362Z",
     "start_time": "2018-12-09T19:10:11.420770Z"
    }
   },
   "outputs": [
    {
     "data": {
      "text/plain": [
       "['../Data/fitted_m_weekday.joblib']"
      ]
     },
     "execution_count": 21,
     "metadata": {},
     "output_type": "execute_result"
    }
   ],
   "source": [
    "dump(m, Datapath+\"fitted_m_weekday.joblib\")"
   ]
  },
  {
   "cell_type": "code",
   "execution_count": 22,
   "metadata": {
    "ExecuteTime": {
     "end_time": "2018-12-09T19:10:11.503761Z",
     "start_time": "2018-12-09T19:10:11.480020Z"
    }
   },
   "outputs": [],
   "source": [
    "m = load(Datapath+\"fitted_m_weekday.joblib\")"
   ]
  },
  {
   "cell_type": "code",
   "execution_count": 23,
   "metadata": {
    "ExecuteTime": {
     "end_time": "2018-12-09T19:10:11.617171Z",
     "start_time": "2018-12-09T19:10:11.505298Z"
    }
   },
   "outputs": [
    {
     "data": {
      "text/plain": [
       "0.92558041297097"
      ]
     },
     "execution_count": 23,
     "metadata": {},
     "output_type": "execute_result"
    }
   ],
   "source": [
    "m.score(X_test, y_test)"
   ]
  }
 ],
 "metadata": {
  "kernelspec": {
   "display_name": "Python 3",
   "language": "python",
   "name": "python3"
  },
  "language_info": {
   "codemirror_mode": {
    "name": "ipython",
    "version": 3
   },
   "file_extension": ".py",
   "mimetype": "text/x-python",
   "name": "python",
   "nbconvert_exporter": "python",
   "pygments_lexer": "ipython3",
   "version": "3.6.4"
  },
  "latex_envs": {
   "LaTeX_envs_menu_present": true,
   "autoclose": false,
   "autocomplete": true,
   "bibliofile": "biblio.bib",
   "cite_by": "apalike",
   "current_citInitial": 1,
   "eqLabelWithNumbers": true,
   "eqNumInitial": 1,
   "hotkeys": {
    "equation": "Ctrl-E",
    "itemize": "Ctrl-I"
   },
   "labels_anchors": false,
   "latex_user_defs": false,
   "report_style_numbering": false,
   "user_envs_cfg": false
  },
  "toc": {
   "nav_menu": {},
   "number_sections": false,
   "sideBar": true,
   "skip_h1_title": false,
   "toc_cell": false,
   "toc_position": {},
   "toc_section_display": "block",
   "toc_window_display": false
  },
  "varInspector": {
   "cols": {
    "lenName": 16,
    "lenType": 16,
    "lenVar": 40
   },
   "kernels_config": {
    "python": {
     "delete_cmd_postfix": "",
     "delete_cmd_prefix": "del ",
     "library": "var_list.py",
     "varRefreshCmd": "print(var_dic_list())"
    },
    "r": {
     "delete_cmd_postfix": ") ",
     "delete_cmd_prefix": "rm(",
     "library": "var_list.r",
     "varRefreshCmd": "cat(var_dic_list()) "
    }
   },
   "types_to_exclude": [
    "module",
    "function",
    "builtin_function_or_method",
    "instance",
    "_Feature"
   ],
   "window_display": false
  }
 },
 "nbformat": 4,
 "nbformat_minor": 2
}
