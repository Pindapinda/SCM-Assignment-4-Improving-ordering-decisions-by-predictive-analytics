{
 "cells": [
  {
   "cell_type": "markdown",
   "metadata": {},
   "source": [
    "# Weather Prediction"
   ]
  },
  {
   "cell_type": "code",
   "execution_count": 1,
   "metadata": {
    "ExecuteTime": {
     "end_time": "2018-12-08T16:09:54.193498Z",
     "start_time": "2018-12-08T16:09:53.940575Z"
    }
   },
   "outputs": [],
   "source": [
    "import numpy as np\n",
    "import pandas as pd\n",
    "import pickle\n",
    "from joblib import dump, load\n",
    "\n",
    "from BSP import *\n",
    "\n",
    "Datapath = \"../Data/\""
   ]
  },
  {
   "cell_type": "markdown",
   "metadata": {},
   "source": [
    "# Loading the data\n",
    "The preprocessed data and the prefitted model are loaded in.\n",
    "When loading in the transformed validation data simply uncomment the second line"
   ]
  },
  {
   "cell_type": "code",
   "execution_count": 2,
   "metadata": {
    "ExecuteTime": {
     "end_time": "2018-12-08T16:09:54.377207Z",
     "start_time": "2018-12-08T16:09:54.195171Z"
    }
   },
   "outputs": [],
   "source": [
    "df_test = pd.read_pickle(Datapath+\"df_test.p\")\n",
    "# df_valid = pd.read_pickle(datapath_to_transformed_valid_data)\n",
    "\n",
    "m = load(Datapath+\"fitted_m.joblib\")"
   ]
  },
  {
   "cell_type": "markdown",
   "metadata": {},
   "source": [
    "# Initialising the model\n",
    "When testing the model with validation data, simply change \"df_train\" to \"df_valid\""
   ]
  },
  {
   "cell_type": "code",
   "execution_count": 3,
   "metadata": {
    "ExecuteTime": {
     "end_time": "2018-12-08T16:09:54.389267Z",
     "start_time": "2018-12-08T16:09:54.378602Z"
    }
   },
   "outputs": [],
   "source": [
    "vals_test = df_test[['Temp', 'Rainfall']].values\n",
    "X_test = np.array([list(vals_test[i]) + list(vals_test[i+1]) for i in range(len(vals_test)-1)])\n",
    "\n",
    "vals = df_test['Demand'].values[1:]\n",
    "ini = df_test['Demand'][0]\n",
    "\n",
    "# vals_valid = df_valid[['Temp', 'Rainfall']].values\n",
    "# X_valid = np.array([list(vals_valid[i]) + list(vals_valid[i+1]) for i in range(len(vals_valid)-1)])\n",
    "\n",
    "# vals = df_valid['Demand'].values[1:]\n",
    "# ini = df_valid['Demand'][0]"
   ]
  },
  {
   "cell_type": "code",
   "execution_count": 4,
   "metadata": {
    "ExecuteTime": {
     "end_time": "2018-12-08T16:09:54.395626Z",
     "start_time": "2018-12-08T16:09:54.390849Z"
    }
   },
   "outputs": [],
   "source": [
    "BSP = Non_stationary_BSP(ini, m_in=m)"
   ]
  },
  {
   "cell_type": "markdown",
   "metadata": {},
   "source": [
    "# Progressing the model\n",
    "We run the model here on all the days in the data set (it only requires the demand for the new day). You could also look at the different features of the class, or progress it slowly"
   ]
  },
  {
   "cell_type": "code",
   "execution_count": 5,
   "metadata": {
    "ExecuteTime": {
     "end_time": "2018-12-08T16:10:32.569917Z",
     "start_time": "2018-12-08T16:09:54.397083Z"
    }
   },
   "outputs": [],
   "source": [
    "for i, val in enumerate(vals):\n",
    "    BSP.progress_day(val, X_in=X_test[i])"
   ]
  },
  {
   "cell_type": "code",
   "execution_count": 6,
   "metadata": {
    "ExecuteTime": {
     "end_time": "2018-12-08T16:10:32.609071Z",
     "start_time": "2018-12-08T16:10:32.574580Z"
    }
   },
   "outputs": [
    {
     "name": "stdout",
     "output_type": "stream",
     "text": [
      "Sum Q:  789.0\n",
      "sum waste:  573.0\n",
      "sum short:  31.0\n"
     ]
    },
    {
     "data": {
      "text/plain": [
       "(208.0, 0.7262357414448669, 0.03929024081115336)"
      ]
     },
     "execution_count": 6,
     "metadata": {},
     "output_type": "execute_result"
    }
   ],
   "source": [
    "BSP.performance()"
   ]
  }
 ],
 "metadata": {
  "kernelspec": {
   "display_name": "Python 3",
   "language": "python",
   "name": "python3"
  },
  "language_info": {
   "codemirror_mode": {
    "name": "ipython",
    "version": 3
   },
   "file_extension": ".py",
   "mimetype": "text/x-python",
   "name": "python",
   "nbconvert_exporter": "python",
   "pygments_lexer": "ipython3",
   "version": "3.6.4"
  },
  "latex_envs": {
   "LaTeX_envs_menu_present": true,
   "autoclose": false,
   "autocomplete": true,
   "bibliofile": "biblio.bib",
   "cite_by": "apalike",
   "current_citInitial": 1,
   "eqLabelWithNumbers": true,
   "eqNumInitial": 1,
   "hotkeys": {
    "equation": "Ctrl-E",
    "itemize": "Ctrl-I"
   },
   "labels_anchors": false,
   "latex_user_defs": false,
   "report_style_numbering": false,
   "user_envs_cfg": false
  },
  "toc": {
   "nav_menu": {},
   "number_sections": false,
   "sideBar": true,
   "skip_h1_title": false,
   "toc_cell": false,
   "toc_position": {},
   "toc_section_display": "block",
   "toc_window_display": false
  },
  "varInspector": {
   "cols": {
    "lenName": 16,
    "lenType": 16,
    "lenVar": 40
   },
   "kernels_config": {
    "python": {
     "delete_cmd_postfix": "",
     "delete_cmd_prefix": "del ",
     "library": "var_list.py",
     "varRefreshCmd": "print(var_dic_list())"
    },
    "r": {
     "delete_cmd_postfix": ") ",
     "delete_cmd_prefix": "rm(",
     "library": "var_list.r",
     "varRefreshCmd": "cat(var_dic_list()) "
    }
   },
   "types_to_exclude": [
    "module",
    "function",
    "builtin_function_or_method",
    "instance",
    "_Feature"
   ],
   "window_display": false
  }
 },
 "nbformat": 4,
 "nbformat_minor": 2
}
